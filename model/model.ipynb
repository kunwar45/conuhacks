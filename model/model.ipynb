{
 "cells": [
  {
   "cell_type": "code",
   "execution_count": 1,
   "id": "e6a58cd6",
   "metadata": {},
   "outputs": [],
   "source": [
    "import numpy as np\n",
    "import pandas as pd\n",
    "import matplotlib.pyplot as plt\n",
    "import tensorflow as tf\n",
    "import os\n",
    "from tensorflow import keras\n",
    "from tensorflow.keras import layers\n",
    "from tensorflow.keras import Sequential\n",
    "import cv2 "
   ]
  },
  {
   "cell_type": "code",
   "execution_count": 48,
   "id": "14a65e3f",
   "metadata": {},
   "outputs": [],
   "source": [
    "trainingDataPath = r\"C:\\Users\\theha\\Downloads\\archive\\train\"\n",
    "testDataPath = r\"C:\\Users\\theha\\Downloads\\archive\\test\"\n",
    "categories = [\"angry\",\"happy\",\"neutral\",\"sad\"]"
   ]
  },
  {
   "cell_type": "code",
   "execution_count": 49,
   "id": "13e98bb9",
   "metadata": {},
   "outputs": [],
   "source": [
    "x_train = []\n",
    "y_train = []\n",
    "img_size = 224\n",
    "def create_training_data():\n",
    "  for category in categories:\n",
    "    path = os.path.join(trainingDataPath, category)\n",
    "    class_num = categories.index(category)\n",
    "    for file in os.listdir(path):\n",
    "      try:\n",
    "        img = cv2.imread(os.path.join(path, file))\n",
    "        resized_img = cv2.resize(img, (img_size, img_size))\n",
    "        x_train.append(resized_img)\n",
    "        y_train.append(class_num)\n",
    "      except Exception as e:\n",
    "        pass\n",
    "    \n",
    "x_test = []\n",
    "y_test = []\n",
    "def create_testing_data():\n",
    "  for category in categories:\n",
    "    path = os.path.join(testDataPath, category)\n",
    "    class_num = categories.index(category)\n",
    "    for file in os.listdir(path):\n",
    "      try:\n",
    "        img = cv2.imread(os.path.join(path, file))\n",
    "        resized_img = cv2.resize(img, (img_size, img_size))\n",
    "        x_test.append(resized_img)\n",
    "        y_test.append(class_num)\n",
    "      except Exception as e:\n",
    "        pass"
   ]
  },
  {
   "cell_type": "code",
   "execution_count": 50,
   "id": "35b775f8",
   "metadata": {},
   "outputs": [],
   "source": [
    "create_training_data()\n",
    "x_train = np.array(x_train).reshape(-1, img_size, img_size, 3)\n",
    "y_train = np.array(y_train)\n",
    "\n",
    "create_testing_data()\n",
    "x_test = np.array(x_test).reshape(-1, img_size, img_size, 3)\n",
    "y_test = np.array(y_test)"
   ]
  },
  {
   "cell_type": "code",
   "execution_count": null,
   "id": "6f37e5a7",
   "metadata": {},
   "outputs": [],
   "source": []
  },
  {
   "cell_type": "code",
   "execution_count": 38,
   "id": "652167d6",
   "metadata": {},
   "outputs": [],
   "source": [
    "# normalization_layer = layers.Rescaling(1./255)\n",
    "\n",
    "# normalized_x_train = [normalization_layer(x) for x in x_train]\n",
    "# normalized_x_test = [normalization_layer(x) for x in x_test]\n",
    "# image_batch, labels_batch = next(iter(normalized__x_train))"
   ]
  },
  {
   "cell_type": "code",
   "execution_count": 51,
   "id": "1b6fc087",
   "metadata": {},
   "outputs": [],
   "source": [
    "num_classes = len(categories)\n",
    "\n",
    "model = Sequential([\n",
    "  layers.Rescaling(1./255, input_shape=(img_size, img_size, 3)),\n",
    "  layers.Conv2D(16, 3, padding='same', activation='relu'),\n",
    "  layers.MaxPooling2D(),\n",
    "  layers.Conv2D(32, 3, padding='same', activation='relu'),\n",
    "  layers.MaxPooling2D(),\n",
    "  layers.Conv2D(64, 3, padding='same', activation='relu'),\n",
    "  layers.MaxPooling2D(),\n",
    "  layers.Flatten(),\n",
    "  layers.Dense(128, activation='relu'),\n",
    "  layers.Dense(num_classes)\n",
    "])"
   ]
  },
  {
   "cell_type": "code",
   "execution_count": 52,
   "id": "078a657e",
   "metadata": {},
   "outputs": [],
   "source": [
    "model.compile(optimizer='adam',\n",
    "              loss=tf.keras.losses.SparseCategoricalCrossentropy(from_logits=True),\n",
    "              metrics=['accuracy'])"
   ]
  },
  {
   "cell_type": "code",
   "execution_count": 53,
   "id": "1d8f9409",
   "metadata": {},
   "outputs": [
    {
     "name": "stdout",
     "output_type": "stream",
     "text": [
      "Model: \"sequential_4\"\n",
      "_________________________________________________________________\n",
      " Layer (type)                Output Shape              Param #   \n",
      "=================================================================\n",
      " rescaling_7 (Rescaling)     (None, 224, 224, 3)       0         \n",
      "                                                                 \n",
      " conv2d_12 (Conv2D)          (None, 224, 224, 16)      448       \n",
      "                                                                 \n",
      " max_pooling2d_12 (MaxPoolin  (None, 112, 112, 16)     0         \n",
      " g2D)                                                            \n",
      "                                                                 \n",
      " conv2d_13 (Conv2D)          (None, 112, 112, 32)      4640      \n",
      "                                                                 \n",
      " max_pooling2d_13 (MaxPoolin  (None, 56, 56, 32)       0         \n",
      " g2D)                                                            \n",
      "                                                                 \n",
      " conv2d_14 (Conv2D)          (None, 56, 56, 64)        18496     \n",
      "                                                                 \n",
      " max_pooling2d_14 (MaxPoolin  (None, 28, 28, 64)       0         \n",
      " g2D)                                                            \n",
      "                                                                 \n",
      " flatten_4 (Flatten)         (None, 50176)             0         \n",
      "                                                                 \n",
      " dense_8 (Dense)             (None, 128)               6422656   \n",
      "                                                                 \n",
      " dense_9 (Dense)             (None, 4)                 516       \n",
      "                                                                 \n",
      "=================================================================\n",
      "Total params: 6,446,756\n",
      "Trainable params: 6,446,756\n",
      "Non-trainable params: 0\n",
      "_________________________________________________________________\n"
     ]
    }
   ],
   "source": [
    "model.summary()"
   ]
  },
  {
   "cell_type": "code",
   "execution_count": null,
   "id": "8daff9c3",
   "metadata": {},
   "outputs": [
    {
     "name": "stdout",
     "output_type": "stream",
     "text": [
      "Epoch 1/10\n",
      "657/657 [==============================] - 249s 379ms/step - loss: 1.0989 - accuracy: 0.5246 - val_loss: 1.0608 - val_accuracy: 0.5368\n",
      "Epoch 2/10\n",
      "657/657 [==============================] - 240s 365ms/step - loss: 0.9764 - accuracy: 0.5854 - val_loss: 1.0405 - val_accuracy: 0.5547\n",
      "Epoch 3/10\n",
      "657/657 [==============================] - 238s 363ms/step - loss: 0.8569 - accuracy: 0.6453 - val_loss: 1.0231 - val_accuracy: 0.5568\n",
      "Epoch 4/10\n",
      "657/657 [==============================] - 237s 361ms/step - loss: 0.6975 - accuracy: 0.7194 - val_loss: 1.1598 - val_accuracy: 0.5512\n",
      "Epoch 5/10\n",
      "657/657 [==============================] - 238s 363ms/step - loss: 0.5076 - accuracy: 0.8020 - val_loss: 1.2721 - val_accuracy: 0.5566\n",
      "Epoch 6/10\n",
      "285/657 [============>.................] - ETA: 2:09 - loss: 0.3013 - accuracy: 0.8945"
     ]
    }
   ],
   "source": [
    "epochs=10\n",
    "history= model.fit(\n",
    "  x_train,\n",
    "    y_train,\n",
    "  epochs=epochs,\n",
    "    batch_size=32,\n",
    "    validation_data=(x_test, y_test),\n",
    ")"
   ]
  },
  {
   "cell_type": "code",
   "execution_count": 16,
   "id": "7bf76bce",
   "metadata": {},
   "outputs": [],
   "source": []
  },
  {
   "cell_type": "code",
   "execution_count": 57,
   "id": "d7c55de7",
   "metadata": {},
   "outputs": [
    {
     "name": "stdout",
     "output_type": "stream",
     "text": [
      "Evaluate on test data\n",
      "41/41 [==============================] - 14s 327ms/step - loss: 1.1633 - accuracy: 0.4937\n",
      "test loss, test acc: [1.1633094549179077, 0.49366846680641174]\n",
      "Generate predictions for 3 samples\n",
      "1/1 [==============================] - 0s 68ms/step\n",
      "predictions shape: (3, 4)\n"
     ]
    }
   ],
   "source": [
    "# Evaluate the model on the test data using `evaluate`\n",
    "print(\"Evaluate on test data\")\n",
    "results = model.evaluate(x_test, y_test, batch_size=128)\n",
    "print(\"test loss, test acc:\", results)\n",
    "\n",
    "# Generate predictions (probabilities -- the output of the last layer)\n",
    "# on new data using `predict`\n",
    "print(\"Generate predictions for 3 samples\")\n",
    "predictions = model.predict(x_test[:3])\n",
    "print(\"predictions shape:\", predictions.shape)"
   ]
  },
  {
   "cell_type": "code",
   "execution_count": 43,
   "id": "dacebe4f",
   "metadata": {},
   "outputs": [
    {
     "name": "stderr",
     "output_type": "stream",
     "text": [
      "WARNING:absl:Found untraced functions such as _jit_compiled_convolution_op, _jit_compiled_convolution_op, _jit_compiled_convolution_op, _update_step_xla while saving (showing 4 of 4). These functions will not be directly callable after loading.\n"
     ]
    },
    {
     "name": "stdout",
     "output_type": "stream",
     "text": [
      "INFO:tensorflow:Assets written to: first_model/assets\n"
     ]
    },
    {
     "name": "stderr",
     "output_type": "stream",
     "text": [
      "INFO:tensorflow:Assets written to: first_model/assets\n"
     ]
    }
   ],
   "source": [
    "model.save(r\"second_model/\")"
   ]
  },
  {
   "cell_type": "code",
   "execution_count": 45,
   "id": "17955e16",
   "metadata": {},
   "outputs": [],
   "source": [
    "new_model = keras.models.load_model(r\"first_model/\")"
   ]
  },
  {
   "cell_type": "code",
   "execution_count": 46,
   "id": "4adae8d7",
   "metadata": {},
   "outputs": [
    {
     "name": "stdout",
     "output_type": "stream",
     "text": [
      "Evaluate on test data\n",
      "57/57 [==============================] - 19s 326ms/step - loss: 4.4102 - accuracy: 0.4926\n",
      "test loss, test acc: [4.410184383392334, 0.49261632561683655]\n"
     ]
    }
   ],
   "source": [
    "print(\"Evaluate on test data\")\n",
    "results = new_model.evaluate(x_test, y_test, batch_size=128)\n",
    "print(\"test loss, test acc:\", results)"
   ]
  },
  {
   "cell_type": "code",
   "execution_count": 47,
   "id": "4ae68460",
   "metadata": {},
   "outputs": [],
   "source": [
    "model.save_weights(r\"second_weights/\")"
   ]
  },
  {
   "cell_type": "code",
   "execution_count": null,
   "id": "d6fc5d93",
   "metadata": {},
   "outputs": [],
   "source": []
  },
  {
   "cell_type": "code",
   "execution_count": null,
   "id": "11d9e863",
   "metadata": {},
   "outputs": [],
   "source": [
    "\n"
   ]
  },
  {
   "cell_type": "code",
   "execution_count": null,
   "id": "956237a4",
   "metadata": {},
   "outputs": [],
   "source": []
  },
  {
   "cell_type": "code",
   "execution_count": null,
   "id": "2517badf",
   "metadata": {},
   "outputs": [],
   "source": []
  },
  {
   "cell_type": "code",
   "execution_count": null,
   "id": "2f5910f0",
   "metadata": {},
   "outputs": [],
   "source": []
  },
  {
   "cell_type": "code",
   "execution_count": null,
   "id": "e949b1ba",
   "metadata": {},
   "outputs": [],
   "source": []
  },
  {
   "cell_type": "code",
   "execution_count": null,
   "id": "d8179c03",
   "metadata": {},
   "outputs": [],
   "source": []
  },
  {
   "cell_type": "code",
   "execution_count": null,
   "id": "0a676481",
   "metadata": {},
   "outputs": [],
   "source": []
  }
 ],
 "metadata": {
  "kernelspec": {
   "display_name": "Python 3 (ipykernel)",
   "language": "python",
   "name": "python3"
  },
  "language_info": {
   "codemirror_mode": {
    "name": "ipython",
    "version": 3
   },
   "file_extension": ".py",
   "mimetype": "text/x-python",
   "name": "python",
   "nbconvert_exporter": "python",
   "pygments_lexer": "ipython3",
   "version": "3.10.5"
  }
 },
 "nbformat": 4,
 "nbformat_minor": 5
}
